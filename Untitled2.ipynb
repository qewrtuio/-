{
 "cells": [
  {
   "cell_type": "code",
   "execution_count": 1,
   "metadata": {},
   "outputs": [
    {
     "name": "stdout",
     "output_type": "stream",
     "text": [
      "Collecting bs4Note: you may need to restart the kernel to use updated packages.\n",
      "  Downloading bs4-0.0.1.tar.gz (1.1 kB)\n",
      "Requirement already satisfied: beautifulsoup4 in c:\\users\\user\\anaconda3\\lib\\site-packages (from bs4) (4.9.1)\n",
      "Requirement already satisfied: soupsieve>1.2 in c:\\users\\user\\anaconda3\\lib\\site-packages (from beautifulsoup4->bs4) (2.0.1)\n",
      "Building wheels for collected packages: bs4\n",
      "  Building wheel for bs4 (setup.py): started\n",
      "  Building wheel for bs4 (setup.py): finished with status 'done'\n",
      "  Created wheel for bs4: filename=bs4-0.0.1-py3-none-any.whl size=1279 sha256=d93d1529e02c303794d2b94861af1b5e22d4de7e28256981422396f5ee30609d\n",
      "  Stored in directory: c:\\users\\user\\appdata\\local\\pip\\cache\\wheels\\75\\78\\21\\68b124549c9bdc94f822c02fb9aa3578a669843f9767776bca\n",
      "Successfully built bs4\n",
      "Installing collected packages: bs4\n",
      "Successfully installed bs4-0.0.1\n",
      "\n"
     ]
    }
   ],
   "source": [
    "pip install bs4"
   ]
  },
  {
   "cell_type": "code",
   "execution_count": 3,
   "metadata": {},
   "outputs": [
    {
     "data": {
      "text/plain": [
       "<title> HTML 연습 </title>"
      ]
     },
     "execution_count": 3,
     "metadata": {},
     "output_type": "execute_result"
    }
   ],
   "source": [
    "from bs4 import BeautifulSoup\n",
    "ex1 = '''\n",
    "<html>\n",
    "     <head>\n",
    "          <title> HTML 연습 </title>\n",
    "     </head>\n",
    "     <body>\n",
    "          <p align=\"center\"> text 1 </p>\n",
    "          <img src=\"C:\\\\Users\\\\user\\\\죠르디.png\">\n",
    "     </body>\n",
    "</html> '''\n",
    "\n",
    "soup = BeautifulSoup(ex1 , 'html.parser')\n",
    "soup.find('title')"
   ]
  },
  {
   "cell_type": "code",
   "execution_count": 4,
   "metadata": {},
   "outputs": [
    {
     "data": {
      "text/plain": [
       "<p align=\"center\"> text 1 </p>"
      ]
     },
     "execution_count": 4,
     "metadata": {},
     "output_type": "execute_result"
    }
   ],
   "source": [
    "soup.find('p')"
   ]
  },
  {
   "cell_type": "code",
   "execution_count": 5,
   "metadata": {},
   "outputs": [],
   "source": [
    "from bs4 import BeautifulSoup\n",
    "ex1 = '''\n",
    "<html>\n",
    "     <head>\n",
    "          <title> HTML 연습 </title>\n",
    "     </head>\n",
    "     <body>\n",
    "          <p align=\"center\"> text 1 </p>\n",
    "          <p align=\"right\"> text 2 </p>\n",
    "          <p align=\"left\"> text 3 </p>\n",
    "          <img src=\"C:\\\\Users\\\\user\\\\죠르디.png\">\n",
    "     </body>\n",
    "</html> '''\n",
    "\n",
    "soup = BeautifulSoup(ex1 , 'html.parser')"
   ]
  },
  {
   "cell_type": "code",
   "execution_count": 6,
   "metadata": {},
   "outputs": [
    {
     "data": {
      "text/plain": [
       "<p align=\"center\"> text 1 </p>"
      ]
     },
     "execution_count": 6,
     "metadata": {},
     "output_type": "execute_result"
    }
   ],
   "source": [
    "soup.find('p')"
   ]
  },
  {
   "cell_type": "code",
   "execution_count": 7,
   "metadata": {},
   "outputs": [],
   "source": [
    "from bs4 import BeautifulSoup\n",
    "ex1 = '''\n",
    "<html>\n",
    "     <head>\n",
    "          <title> HTML 연습 </title>\n",
    "     </head>\n",
    "     <body>\n",
    "          <p align=\"center\"> text 1 </p>\n",
    "          <p align=\"right\"> text 2 </p>\n",
    "          <p align=\"left\"> text 3 </p>\n",
    "          <img src=\"C:\\\\Users\\\\user\\\\죠르디.png\">\n",
    "     </body>\n",
    "</html> '''\n",
    "\n",
    "soup = BeautifulSoup(ex1 , 'html.parser')"
   ]
  },
  {
   "cell_type": "code",
   "execution_count": 8,
   "metadata": {},
   "outputs": [
    {
     "data": {
      "text/plain": [
       "<p align=\"center\"> text 1 </p>"
      ]
     },
     "execution_count": 8,
     "metadata": {},
     "output_type": "execute_result"
    }
   ],
   "source": [
    "soup.find('p', align='center')"
   ]
  },
  {
   "cell_type": "code",
   "execution_count": 9,
   "metadata": {},
   "outputs": [
    {
     "data": {
      "text/plain": [
       "<p align=\"right\"> text 2 </p>"
      ]
     },
     "execution_count": 9,
     "metadata": {},
     "output_type": "execute_result"
    }
   ],
   "source": [
    "soup.find('p', align=\"right\")"
   ]
  },
  {
   "cell_type": "code",
   "execution_count": 10,
   "metadata": {},
   "outputs": [
    {
     "data": {
      "text/plain": [
       "<p align=\"left\"> text 3 </p>"
      ]
     },
     "execution_count": 10,
     "metadata": {},
     "output_type": "execute_result"
    }
   ],
   "source": [
    "soup.find('p', align=\"left\")"
   ]
  },
  {
   "cell_type": "code",
   "execution_count": 11,
   "metadata": {},
   "outputs": [
    {
     "data": {
      "text/plain": [
       "[<p align=\"center\"> text 1 </p>,\n",
       " <p align=\"right\"> text 2 </p>,\n",
       " <p align=\"left\"> text 3 </p>]"
      ]
     },
     "execution_count": 11,
     "metadata": {},
     "output_type": "execute_result"
    }
   ],
   "source": [
    "soup.find_all('p')"
   ]
  },
  {
   "cell_type": "code",
   "execution_count": 12,
   "metadata": {},
   "outputs": [
    {
     "data": {
      "text/plain": [
       "[<p align=\"center\"> text 1 </p>,\n",
       " <p align=\"right\"> text 2 </p>,\n",
       " <p align=\"left\"> text 3 </p>,\n",
       " <img src=\"C:\\Users\\user\\죠르디.png\"/>]"
      ]
     },
     "execution_count": 12,
     "metadata": {},
     "output_type": "execute_result"
    }
   ],
   "source": [
    "soup.find_all(['p', 'img'])"
   ]
  },
  {
   "cell_type": "code",
   "execution_count": 13,
   "metadata": {},
   "outputs": [
    {
     "data": {
      "text/plain": [
       "' text 1 '"
      ]
     },
     "execution_count": 13,
     "metadata": {},
     "output_type": "execute_result"
    }
   ],
   "source": [
    "txt = soup.find('p')\n",
    "txt.string"
   ]
  },
  {
   "cell_type": "code",
   "execution_count": 14,
   "metadata": {
    "scrolled": true
   },
   "outputs": [
    {
     "name": "stdout",
     "output_type": "stream",
     "text": [
      " text 1 \n",
      " text 2 \n",
      " text 3 \n"
     ]
    }
   ],
   "source": [
    "txt2 = soup.find_all('p')\n",
    "for i in txt2 :\n",
    "    print(i.string)"
   ]
  },
  {
   "cell_type": "code",
   "execution_count": 15,
   "metadata": {},
   "outputs": [
    {
     "data": {
      "text/plain": [
       "<head>\n",
       "<title> HTML 연습 </title>\n",
       "</head>"
      ]
     },
     "execution_count": 15,
     "metadata": {},
     "output_type": "execute_result"
    }
   ],
   "source": [
    "soup.find('head')"
   ]
  },
  {
   "cell_type": "code",
   "execution_count": 16,
   "metadata": {},
   "outputs": [
    {
     "name": "stdout",
     "output_type": "stream",
     "text": [
      " text 1 \n",
      " text 2 \n",
      " text 3 \n"
     ]
    }
   ],
   "source": [
    "txt3 = soup.find_all('p')\n",
    "for i in txt3 : \n",
    "    print(i.get_text())"
   ]
  },
  {
   "cell_type": "code",
   "execution_count": 28,
   "metadata": {},
   "outputs": [],
   "source": [
    "ex2 = '''\n",
    "<html>\n",
    "     <head>\n",
    "          <h1> 사야할 과일\n",
    "     </head>\n",
    "     <body>\n",
    "         <h1> 시장가서 사야할 과일 목록\n",
    "            <div> <p id='fruits1' class='name1' title='바나나'> 바나나\n",
    "                  <span class = 'price'> 3000원 </span>\n",
    "                  <span class = 'count'> 10개</span>\n",
    "                  <span class = 'store'> 바나나가게 </span>\n",
    "                  <a href= 'https://www.banana.com'> banana.com </a>\n",
    "                  </p>\n",
    "             </div>\n",
    "             <div> <p id='fruits2' class='name2' title='체리'> 체리\n",
    "                  <span class = 'price'> 100원 </span>\n",
    "                  <span class = 'count'> 50개</span>\n",
    "                  <span class = 'store'> 체리가게 </span>\n",
    "                  <a href= 'https://www.cherry.com'> cherry.com </a>\n",
    "                  </p>\n",
    "             </div>\n",
    "             <div> <p id='fruits3' class='name3' title='오렌지'> 오렌지\n",
    "                  <span class = 'price'> 500원 </span>\n",
    "                  <span class = 'count'> 20개</span>\n",
    "                  <span class = 'store'> 오렌지가게 </span>\n",
    "                  <a href= 'https://www.orange.com'> orange.com </a>\n",
    "                  </p>\n",
    "             </div>\n",
    "      </body>\n",
    "</html> '''\n",
    "\n",
    "soup2 = BeautifulSoup(ex2 , 'html.parser')"
   ]
  },
  {
   "cell_type": "code",
   "execution_count": 29,
   "metadata": {},
   "outputs": [
    {
     "data": {
      "text/plain": [
       "[<p class=\"name1\" id=\"fruits1\" title=\"바나나\"> 바나나\n",
       "                   <span class=\"price\"> 3000원 </span>\n",
       " <span class=\"count\"> 10개</span>\n",
       " <span class=\"store\"> 바나나가게 </span>\n",
       " <a href=\"https://www.banana.com\"> banana.com </a>\n",
       " </p>,\n",
       " <p class=\"name2\" id=\"fruits2\" title=\"체리\"> 체리\n",
       "                   <span class=\"price\"> 100원 </span>\n",
       " <span class=\"count\"> 50개</span>\n",
       " <span class=\"store\"> 체리가게 </span>\n",
       " <a href=\"https://www.cherry.com\"> cherry.com </a>\n",
       " </p>,\n",
       " <p class=\"name3\" id=\"fruits3\" title=\"오렌지\"> 오렌지\n",
       "                   <span class=\"price\"> 500원 </span>\n",
       " <span class=\"count\"> 20개</span>\n",
       " <span class=\"store\"> 오렌지가게 </span>\n",
       " <a href=\"https://www.orange.com\"> orange.com </a>\n",
       " </p>]"
      ]
     },
     "execution_count": 29,
     "metadata": {},
     "output_type": "execute_result"
    }
   ],
   "source": [
    "soup2.select('p')"
   ]
  },
  {
   "cell_type": "code",
   "execution_count": 30,
   "metadata": {},
   "outputs": [
    {
     "data": {
      "text/plain": [
       "[<p class=\"name1\" id=\"fruits1\" title=\"바나나\"> 바나나\n",
       "                   <span class=\"price\"> 3000원 </span>\n",
       " <span class=\"count\"> 10개</span>\n",
       " <span class=\"store\"> 바나나가게 </span>\n",
       " <a href=\"https://www.banana.com\"> banana.com </a>\n",
       " </p>]"
      ]
     },
     "execution_count": 30,
     "metadata": {},
     "output_type": "execute_result"
    }
   ],
   "source": [
    "soup2.select(' .name1')"
   ]
  },
  {
   "cell_type": "code",
   "execution_count": 31,
   "metadata": {},
   "outputs": [
    {
     "data": {
      "text/plain": [
       "[<span class=\"price\"> 3000원 </span>,\n",
       " <span class=\"count\"> 10개</span>,\n",
       " <span class=\"store\"> 바나나가게 </span>,\n",
       " <span class=\"price\"> 100원 </span>,\n",
       " <span class=\"count\"> 50개</span>,\n",
       " <span class=\"store\"> 체리가게 </span>,\n",
       " <span class=\"price\"> 500원 </span>,\n",
       " <span class=\"count\"> 20개</span>,\n",
       " <span class=\"store\"> 오렌지가게 </span>]"
      ]
     },
     "execution_count": 31,
     "metadata": {},
     "output_type": "execute_result"
    }
   ],
   "source": [
    "soup2.select(' div> p > span')"
   ]
  },
  {
   "cell_type": "code",
   "execution_count": 32,
   "metadata": {},
   "outputs": [
    {
     "data": {
      "text/plain": [
       "<span class=\"price\"> 3000원 </span>"
      ]
     },
     "execution_count": 32,
     "metadata": {},
     "output_type": "execute_result"
    }
   ],
   "source": [
    "soup2.select(' div > p > span')[0]"
   ]
  },
  {
   "cell_type": "code",
   "execution_count": 33,
   "metadata": {},
   "outputs": [
    {
     "data": {
      "text/plain": [
       "<span class=\"count\"> 10개</span>"
      ]
     },
     "execution_count": 33,
     "metadata": {},
     "output_type": "execute_result"
    }
   ],
   "source": [
    "soup2.select(' div > p > span')[1]"
   ]
  },
  {
   "cell_type": "code",
   "execution_count": 34,
   "metadata": {},
   "outputs": [
    {
     "data": {
      "text/plain": [
       "<span class=\"store\"> 바나나가게 </span>"
      ]
     },
     "execution_count": 34,
     "metadata": {},
     "output_type": "execute_result"
    }
   ],
   "source": [
    "soup2.select(' div > p > span')[2]"
   ]
  },
  {
   "cell_type": "code",
   "execution_count": 35,
   "metadata": {},
   "outputs": [
    {
     "data": {
      "text/plain": [
       "[<p class=\"name1\" id=\"fruits1\" title=\"바나나\"> 바나나\n",
       "                   <span class=\"price\"> 3000원 </span>\n",
       " <span class=\"count\"> 10개</span>\n",
       " <span class=\"store\"> 바나나가게 </span>\n",
       " <a href=\"https://www.banana.com\"> banana.com </a>\n",
       " </p>]"
      ]
     },
     "execution_count": 35,
     "metadata": {},
     "output_type": "execute_result"
    }
   ],
   "source": [
    "soup2.select('#fruits1')"
   ]
  },
  {
   "cell_type": "code",
   "execution_count": 36,
   "metadata": {},
   "outputs": [
    {
     "data": {
      "text/plain": [
       "[<span class=\"store\"> 바나나가게 </span>]"
      ]
     },
     "execution_count": 36,
     "metadata": {},
     "output_type": "execute_result"
    }
   ],
   "source": [
    "soup2.select('#fruits1 > span.store')"
   ]
  },
  {
   "cell_type": "code",
   "execution_count": 37,
   "metadata": {},
   "outputs": [
    {
     "data": {
      "text/plain": [
       "[<a href=\"https://www.banana.com\"> banana.com </a>,\n",
       " <a href=\"https://www.cherry.com\"> cherry.com </a>,\n",
       " <a href=\"https://www.orange.com\"> orange.com </a>]"
      ]
     },
     "execution_count": 37,
     "metadata": {},
     "output_type": "execute_result"
    }
   ],
   "source": [
    "soup2.select('a[href]')"
   ]
  },
  {
   "cell_type": "code",
   "execution_count": 38,
   "metadata": {},
   "outputs": [
    {
     "data": {
      "text/plain": [
       "<a href=\"https://www.banana.com\"> banana.com </a>"
      ]
     },
     "execution_count": 38,
     "metadata": {},
     "output_type": "execute_result"
    }
   ],
   "source": [
    "soup2.select('a[href]')[0]"
   ]
  },
  {
   "cell_type": "code",
   "execution_count": null,
   "metadata": {},
   "outputs": [],
   "source": []
  }
 ],
 "metadata": {
  "kernelspec": {
   "display_name": "Python 3",
   "language": "python",
   "name": "python3"
  },
  "language_info": {
   "codemirror_mode": {
    "name": "ipython",
    "version": 3
   },
   "file_extension": ".py",
   "mimetype": "text/x-python",
   "name": "python",
   "nbconvert_exporter": "python",
   "pygments_lexer": "ipython3",
   "version": "3.8.5"
  }
 },
 "nbformat": 4,
 "nbformat_minor": 4
}
